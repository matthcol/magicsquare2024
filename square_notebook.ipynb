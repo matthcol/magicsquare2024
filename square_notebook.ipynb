{
 "cells": [
  {
   "cell_type": "markdown",
   "id": "065a776f-ccfe-4548-a962-d1f46fa18e6c",
   "metadata": {},
   "source": [
    "# Magic Square"
   ]
  },
  {
   "cell_type": "code",
   "execution_count": 2,
   "id": "83007cf6-ad37-40a5-b066-b19089732a4d",
   "metadata": {
    "scrolled": true
   },
   "outputs": [],
   "source": [
    "from data import square3_ok"
   ]
  },
  {
   "cell_type": "code",
   "execution_count": 3,
   "id": "7f19a622-3acf-4375-9c0f-b3e233cc23cb",
   "metadata": {},
   "outputs": [
    {
     "data": {
      "text/plain": [
       "array([[2, 7, 6],\n",
       "       [9, 5, 1],\n",
       "       [4, 3, 8]])"
      ]
     },
     "execution_count": 3,
     "metadata": {},
     "output_type": "execute_result"
    }
   ],
   "source": [
    "square3_ok"
   ]
  },
  {
   "cell_type": "code",
   "execution_count": 4,
   "id": "594e18b3-118a-4fa8-8e8f-d58ea09c18e3",
   "metadata": {},
   "outputs": [
    {
     "name": "stdout",
     "output_type": "stream",
     "text": [
      "[[2 7 6]\n",
      " [9 5 1]\n",
      " [4 3 8]]\n"
     ]
    }
   ],
   "source": [
    "print(square3_ok)"
   ]
  },
  {
   "cell_type": "code",
   "execution_count": 5,
   "id": "ccb23ac1-a9fe-430f-a0b9-e9bb55df0713",
   "metadata": {},
   "outputs": [
    {
     "data": {
      "text/plain": [
       "15"
      ]
     },
     "execution_count": 5,
     "metadata": {},
     "output_type": "execute_result"
    }
   ],
   "source": [
    "square3_ok[0].sum()"
   ]
  }
 ],
 "metadata": {
  "kernelspec": {
   "display_name": "k312",
   "language": "python",
   "name": "k312"
  },
  "language_info": {
   "codemirror_mode": {
    "name": "ipython",
    "version": 3
   },
   "file_extension": ".py",
   "mimetype": "text/x-python",
   "name": "python",
   "nbconvert_exporter": "python",
   "pygments_lexer": "ipython3",
   "version": "3.12.1"
  }
 },
 "nbformat": 4,
 "nbformat_minor": 5
}
