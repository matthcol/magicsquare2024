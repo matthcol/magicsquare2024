{
 "cells": [
  {
   "cell_type": "markdown",
   "id": "065a776f-ccfe-4548-a962-d1f46fa18e6c",
   "metadata": {},
   "source": [
    "# Magic Square"
   ]
  },
  {
   "cell_type": "code",
   "execution_count": 1,
   "id": "60839449-530f-47a0-aeea-dd71b59f0cc1",
   "metadata": {},
   "outputs": [],
   "source": [
    "%load_ext autoreload\n",
    "%autoreload 2"
   ]
  },
  {
   "cell_type": "code",
   "execution_count": 2,
   "id": "83007cf6-ad37-40a5-b066-b19089732a4d",
   "metadata": {
    "scrolled": true
   },
   "outputs": [],
   "source": [
    "from data import *\n",
    "from checker import is_magic, magic_sum"
   ]
  },
  {
   "cell_type": "code",
   "execution_count": 3,
   "id": "7f19a622-3acf-4375-9c0f-b3e233cc23cb",
   "metadata": {},
   "outputs": [
    {
     "data": {
      "text/plain": [
       "array([[2, 7, 6],\n",
       "       [9, 5, 1],\n",
       "       [4, 3, 8]])"
      ]
     },
     "execution_count": 3,
     "metadata": {},
     "output_type": "execute_result"
    }
   ],
   "source": [
    "square3_ok"
   ]
  },
  {
   "cell_type": "code",
   "execution_count": 4,
   "id": "594e18b3-118a-4fa8-8e8f-d58ea09c18e3",
   "metadata": {},
   "outputs": [
    {
     "name": "stdout",
     "output_type": "stream",
     "text": [
      "[[2 7 6]\n",
      " [9 5 1]\n",
      " [4 3 8]]\n"
     ]
    }
   ],
   "source": [
    "print(square3_ok)"
   ]
  },
  {
   "cell_type": "code",
   "execution_count": 5,
   "id": "ccb23ac1-a9fe-430f-a0b9-e9bb55df0713",
   "metadata": {},
   "outputs": [
    {
     "data": {
      "text/plain": [
       "15"
      ]
     },
     "execution_count": 5,
     "metadata": {},
     "output_type": "execute_result"
    }
   ],
   "source": [
    "square3_ok[0].sum()"
   ]
  },
  {
   "cell_type": "code",
   "execution_count": 8,
   "id": "4fe55fc2-f6bb-4fae-9bfb-2b588047b3ec",
   "metadata": {},
   "outputs": [
    {
     "data": {
      "text/plain": [
       "False"
      ]
     },
     "execution_count": 8,
     "metadata": {},
     "output_type": "execute_result"
    }
   ],
   "source": [
    "is_magic(square3_ok)"
   ]
  },
  {
   "cell_type": "code",
   "execution_count": 7,
   "id": "dfcfa953-24ba-4cbd-a5f5-f49c25410099",
   "metadata": {},
   "outputs": [
    {
     "data": {
      "text/plain": [
       "34"
      ]
     },
     "execution_count": 7,
     "metadata": {},
     "output_type": "execute_result"
    }
   ],
   "source": [
    "magic_sum(4)"
   ]
  },
  {
   "cell_type": "code",
   "execution_count": 9,
   "id": "157452fe-7a5d-45a7-8cba-76f8e8c5d3d8",
   "metadata": {},
   "outputs": [
    {
     "data": {
      "text/plain": [
       "array([2, 5, 8])"
      ]
     },
     "execution_count": 9,
     "metadata": {},
     "output_type": "execute_result"
    }
   ],
   "source": [
    "square3_ok.diagonal()"
   ]
  },
  {
   "cell_type": "code",
   "execution_count": 12,
   "id": "8b03e065-6102-4430-be8a-ee166d2bfca7",
   "metadata": {},
   "outputs": [
    {
     "data": {
      "text/plain": [
       "array([[4, 3, 8],\n",
       "       [9, 5, 1],\n",
       "       [2, 7, 6]])"
      ]
     },
     "execution_count": 12,
     "metadata": {},
     "output_type": "execute_result"
    }
   ],
   "source": [
    "square3_ok[::-1]"
   ]
  },
  {
   "cell_type": "code",
   "execution_count": 13,
   "id": "0d446b3b-5856-4fca-b603-f2ae6817ae3a",
   "metadata": {},
   "outputs": [
    {
     "data": {
      "text/plain": [
       "array([4, 5, 6])"
      ]
     },
     "execution_count": 13,
     "metadata": {},
     "output_type": "execute_result"
    }
   ],
   "source": [
    "square3_ok[::-1].diagonal()"
   ]
  },
  {
   "cell_type": "code",
   "execution_count": 15,
   "id": "5cebd530-5a08-4fa8-8a63-1c9ae1e6c25f",
   "metadata": {},
   "outputs": [
    {
     "data": {
      "text/plain": [
       "(15, 15)"
      ]
     },
     "execution_count": 15,
     "metadata": {},
     "output_type": "execute_result"
    }
   ],
   "source": [
    "np.trace(square3_ok), \\\n",
    "np.trace(square3_ok[::-1]),"
   ]
  },
  {
   "cell_type": "code",
   "execution_count": 10,
   "id": "3ad3a8fd-51fa-4b70-b7fd-9dc8ebc05d9d",
   "metadata": {},
   "outputs": [
    {
     "data": {
      "text/plain": [
       "array([[2, 9, 4],\n",
       "       [7, 5, 3],\n",
       "       [6, 1, 8]])"
      ]
     },
     "execution_count": 10,
     "metadata": {},
     "output_type": "execute_result"
    }
   ],
   "source": [
    "square3_ok.T"
   ]
  },
  {
   "cell_type": "code",
   "execution_count": null,
   "id": "77269626-f58d-417d-9088-9a26caa6e7ff",
   "metadata": {},
   "outputs": [],
   "source": []
  }
 ],
 "metadata": {
  "kernelspec": {
   "display_name": "k312",
   "language": "python",
   "name": "k312"
  },
  "language_info": {
   "codemirror_mode": {
    "name": "ipython",
    "version": 3
   },
   "file_extension": ".py",
   "mimetype": "text/x-python",
   "name": "python",
   "nbconvert_exporter": "python",
   "pygments_lexer": "ipython3",
   "version": "3.12.1"
  }
 },
 "nbformat": 4,
 "nbformat_minor": 5
}
